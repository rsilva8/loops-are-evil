{
 "cells": [
  {
   "cell_type": "code",
   "execution_count": 1,
   "metadata": {},
   "outputs": [],
   "source": [
    "# check which kernel we are using\n",
    "#!jupyter kernelspec list "
   ]
  },
  {
   "cell_type": "code",
   "execution_count": 1,
   "metadata": {},
   "outputs": [],
   "source": [
    "import numpy as np\n",
    "from numpy.lib.stride_tricks import as_strided\n",
    "from numba import jit\n",
    "from skimage.restoration import denoise_nl_means, estimate_sigma\n",
    "%load_ext line_profiler"
   ]
  },
  {
   "cell_type": "code",
   "execution_count": 2,
   "metadata": {},
   "outputs": [],
   "source": [
    "def get_dist_loop(s,p1,p2,w,var):\n",
    "    distance = 0\n",
    "    for i in range(s):\n",
    "        for j in range(s):\n",
    "            tmp_diff = p1[i, j] - p2[i, j]\n",
    "            distance += w[i, j] * (tmp_diff * tmp_diff - 2 * var)\n",
    "    distance = max(distance, 0)\n",
    "    distance = np.exp(-distance)\n",
    "    return distance\n",
    "\n",
    "\n",
    "def get_dist_op(s,p1,p2,w,var):\n",
    "    distance = np.sum(w * ((p1 - p2)**2 - 2 * var))\n",
    "    distance = max(distance, 0)\n",
    "    distance = np.exp(-distance)\n",
    "    return distance"
   ]
  },
  {
   "cell_type": "code",
   "execution_count": 5,
   "metadata": {},
   "outputs": [
    {
     "name": "stdout",
     "output_type": "stream",
     "text": [
      "147 µs ± 8.14 µs per loop (mean ± std. dev. of 7 runs, 10000 loops each)\n",
      "10.9 µs ± 197 ns per loop (mean ± std. dev. of 7 runs, 100000 loops each)\n"
     ]
    }
   ],
   "source": [
    "%timeit get_dist_loop(s,a,b,w,0.)\n",
    "%timeit get_dist_op(s,a,b,w,0.)"
   ]
  },
  {
   "cell_type": "code",
   "execution_count": null,
   "metadata": {},
   "outputs": [],
   "source": []
  },
  {
   "cell_type": "markdown",
   "metadata": {},
   "source": [
    "Cython implementation"
   ]
  },
  {
   "cell_type": "code",
   "execution_count": 3,
   "metadata": {},
   "outputs": [],
   "source": [
    "%load_ext cython"
   ]
  },
  {
   "cell_type": "code",
   "execution_count": 4,
   "metadata": {},
   "outputs": [],
   "source": [
    "%%cython\n",
    "import numpy as np\n",
    "cimport numpy as np\n",
    "# cdef extern from \"fast_exp.h\":\n",
    "#    double fast_exp(double y) nogil\n",
    "def get_dist_loopx(int s, np.int32_t [:, :] p1, np.int32_t [:, :] p2, np.float64_t [:, :] w, float var):\n",
    "    cdef double distance = 0., tmp_diff = 0.\n",
    "    for i in range(s):\n",
    "        for j in range(s):\n",
    "            tmp_diff = p1[i, j] - p2[i, j]\n",
    "            distance += w[i, j] * (tmp_diff * tmp_diff - 2 * var)\n",
    "    distance = max(distance, 0)\n",
    "    distance = np.exp(-distance)\n",
    "    return distance"
   ]
  },
  {
   "cell_type": "code",
   "execution_count": 5,
   "metadata": {},
   "outputs": [],
   "source": [
    "%%cython\n",
    "import numpy as np\n",
    "cimport numpy as np\n",
    "def get_dist_opx(int s, np.int32_t [:, :] p1, np.int32_t [:, :] p2, np.float64_t [:, :] w, float var):\n",
    "    cdef double distance = 0.\n",
    "    distance = np.sum(np.multiply(w,(np.square(np.subtract(p1,p2)) - 2 * var)))\n",
    "    distance = max(distance, 0)\n",
    "    distance = np.exp(-distance)\n",
    "    return distance"
   ]
  },
  {
   "cell_type": "code",
   "execution_count": 30,
   "metadata": {},
   "outputs": [
    {
     "name": "stdout",
     "output_type": "stream",
     "text": [
      "3.37 µs ± 78.8 ns per loop (mean ± std. dev. of 7 runs, 100000 loops each)\n",
      "20.5 µs ± 459 ns per loop (mean ± std. dev. of 7 runs, 10000 loops each)\n",
      "150 µs ± 2.27 µs per loop (mean ± std. dev. of 7 runs, 10000 loops each)\n",
      "11.3 µs ± 55.2 ns per loop (mean ± std. dev. of 7 runs, 100000 loops each)\n"
     ]
    }
   ],
   "source": [
    "%timeit get_dist_loopx(s,a,b,w,0.)\n",
    "%timeit get_dist_opx(s,a,b,w,0.)\n",
    "%timeit get_dist_loop(s,a,b,w,0.)\n",
    "%timeit get_dist_op(s,a,b,w,0.)"
   ]
  },
  {
   "cell_type": "markdown",
   "metadata": {},
   "source": [
    "Numba, parallelization"
   ]
  },
  {
   "cell_type": "code",
   "execution_count": 6,
   "metadata": {},
   "outputs": [],
   "source": [
    "from numba import jit"
   ]
  },
  {
   "cell_type": "code",
   "execution_count": 8,
   "metadata": {},
   "outputs": [],
   "source": [
    "get_dist_loopn = jit(get_dist_loop)\n",
    "get_dist_opn = jit(get_dist_op)"
   ]
  },
  {
   "cell_type": "code",
   "execution_count": 34,
   "metadata": {
    "scrolled": true
   },
   "outputs": [
    {
     "name": "stdout",
     "output_type": "stream",
     "text": [
      "845 ns ± 34.7 ns per loop (mean ± std. dev. of 7 runs, 1000000 loops each)\n",
      "3.36 µs ± 46.5 ns per loop (mean ± std. dev. of 7 runs, 100000 loops each)\n",
      "The slowest run took 14.25 times longer than the fastest. This could mean that an intermediate result is being cached.\n",
      "3.66 µs ± 5.49 µs per loop (mean ± std. dev. of 7 runs, 1 loop each)\n"
     ]
    }
   ],
   "source": [
    "%timeit get_dist_loopn(s,a,b,w,0.)\n",
    "%timeit get_dist_loopx(s,a,b,w,0.)\n",
    "# %timeit get_dist_op(s,a,b,w,0.)\n",
    "# %timeit get_dist_loop(s,a,b,w,0.)\n",
    "timeit get_dist_opn(s,a,b,w,0.)"
   ]
  },
  {
   "cell_type": "markdown",
   "metadata": {},
   "source": [
    "# matrix optimization (numpy strides)"
   ]
  },
  {
   "cell_type": "code",
   "execution_count": null,
   "metadata": {},
   "outputs": [],
   "source": []
  },
  {
   "cell_type": "code",
   "execution_count": 7,
   "metadata": {},
   "outputs": [],
   "source": [
    "def rolling_window(a, window):\n",
    "    shape = a.shape[:-1] + (a.shape[-1] - window + 1, window)\n",
    "    strides = a.strides + (a.strides[-1],)\n",
    "    return as_strided(a, shape=shape, strides=strides)\n",
    "\n",
    "\n",
    "def rolling_block(A, block=(3, 3)):\n",
    "    shape = (A.shape[0] - block[0] + 1, A.shape[1] - block[1] + 1) + block\n",
    "    strides = (A.strides[0], A.strides[1]) + A.strides\n",
    "    return as_strided(A, shape=shape, strides=strides)\n",
    "\n",
    "\n",
    "def rolling_patch_sets(A, blocks = (3,3), block = (3,3)):\n",
    "    shape = (A.shape[0] - block[0] + 1 - blocks[0] + 1,\n",
    "             A.shape[1] - block[1] + 1 - blocks[1] + 1) + blocks + block\n",
    "    strides = 3*A.strides\n",
    "    return as_strided(A, shape=shape, strides=strides)\n",
    "\n",
    "def rolling_apply(fun, a, w):\n",
    "    r = np.empty(a.shape)\n",
    "    r.fill(np.nan)\n",
    "    for i in range(w - 1, a.shape[0]):\n",
    "        r[i] = fun(a[(i-w+1):i+1])\n",
    "    return r"
   ]
  },
  {
   "cell_type": "code",
   "execution_count": 8,
   "metadata": {},
   "outputs": [],
   "source": [
    "def nlmeans_one_loop(a,s,h,var):\n",
    "    n_channels = a.shape[-1]\n",
    "    A = ((s - 1.) / 4.)\n",
    "    offset = (s - 1) / 2\n",
    "    xg_row, xg_col = np.mgrid[-offset:offset + 1, -offset:offset + 1]\n",
    "    w = np.ascontiguousarray(np.exp(-(xg_row * xg_row + xg_col * xg_col) / (2 * A * A)),dtype=np.float64)\n",
    "    w = 1. / (n_channels * np.sum(w) * h * h) * w\n",
    "    b = np.zeros(a.shape[:-1], dtype='float')\n",
    "    a_padded = np.pad(a[:,:,0], pad_width=2, mode='reflect')\n",
    "    rps = rolling_patch_sets(a_padded)\n",
    "    for index in np.ndindex(a.shape[:-1]):\n",
    "        weight = np.sum( w * (np.square(rps[index] - rps[index+(1,1)]) - 2. * var), axis = (-1,-2) )\n",
    "        tmp = -np.maximum(weight, 0)\n",
    "        weight = np.exp( tmp)\n",
    "        #weight = ne.evaluate('exp( tmp )')\n",
    "        weight_sum = np.sum( weight)\n",
    "        patch_centers = rps[index[0],index[1],:,:,1,1]\n",
    "        b[index] = np.sum( weight * patch_centers ) / weight_sum\n",
    "    return b[:,:,None]"
   ]
  },
  {
   "cell_type": "code",
   "execution_count": 9,
   "metadata": {},
   "outputs": [],
   "source": [
    "%%cython\n",
    "#cython: initializedcheck=False\n",
    "#cython: wraparound=False\n",
    "#cython: boundscheck=False\n",
    "#cython: cdivision=True\n",
    "import numpy as np\n",
    "cimport numpy as np\n",
    "cimport cython\n",
    "\n",
    "ctypedef np.float64_t IMGDTYPE\n",
    "\n",
    "cdef double DISTANCE_CUTOFF = 5.0\n",
    "\n",
    "cdef inline double patch_dist_2dx(IMGDTYPE [:, :] p1,\n",
    "                                     IMGDTYPE [:, :] p2,\n",
    "                                     IMGDTYPE [:, ::] w, int s, double var):\n",
    "    \"\"\"\n",
    "    Compute a Gaussian distance between two image patches.\n",
    "    Parameters\n",
    "    ----------\n",
    "    p1 : 2-D array_like\n",
    "        First patch.\n",
    "    p2 : 2-D array_like\n",
    "        Second patch.\n",
    "    w : 2-D array_like\n",
    "        Array of weights for the different pixels of the patches.\n",
    "    s : int\n",
    "        Linear size of the patches.\n",
    "    var : double\n",
    "        Expected noise variance.\n",
    "    Returns\n",
    "    -------\n",
    "    distance : double\n",
    "        Gaussian distance between the two patches\n",
    "    Notes\n",
    "    -----\n",
    "    The returned distance is given by\n",
    "    .. math::  \\exp( -w ((p1 - p2)^2 - 2*var))\n",
    "    \"\"\"\n",
    "    cdef int i, j\n",
    "    cdef int center = (s-1) / 2\n",
    "    # Check if central pixel is too different in the 2 patches\n",
    "    cdef double tmp_diff = p1[center, center] - p2[center, center]\n",
    "    cdef double init = w[center, center] * tmp_diff * tmp_diff\n",
    "    if init > 1:\n",
    "        return 0.\n",
    "    cdef double distance = 0\n",
    "    for i in range(s):\n",
    "        # exp of large negative numbers will be 0, so we'd better stop\n",
    "        if distance > DISTANCE_CUTOFF:\n",
    "            return 0.\n",
    "        for j in range(s):\n",
    "            tmp_diff = p1[i, j] - p2[i, j]\n",
    "            distance += w[i, j] * (tmp_diff * tmp_diff - 2 * var)\n",
    "    distance = np.max(distance, 0)\n",
    "    distance = np.exp(-distance)\n",
    "    return distance\n",
    "\n",
    "\n",
    "def nl_means_denoising_2dx(image, int s=7, int d=13, double h=0.1,\n",
    "                           double var=0.):\n",
    "    \"\"\"\n",
    "    Perform non-local means denoising on 2-D RGB image\n",
    "    Parameters\n",
    "    ----------\n",
    "    image : ndarray\n",
    "        Input RGB image to be denoised\n",
    "    s : int, optional\n",
    "        Size of patches used for denoising\n",
    "    d : int, optional\n",
    "        Maximal distance in pixels where to search patches used for denoising\n",
    "    h : double, optional\n",
    "        Cut-off distance (in gray levels). The higher h, the more permissive\n",
    "        one is in accepting patches.\n",
    "    var : double\n",
    "        Expected noise variance.  If non-zero, this is used to reduce the\n",
    "        apparent patch distances by the expected distance due to the noise.\n",
    "    Notes\n",
    "    -----\n",
    "    This function operates on 2D grayscale and multichannel images.  For\n",
    "    2D grayscale images, the input should be 3D with size 1 along the last\n",
    "    axis.  The code is compatible with an arbitrary number of channels.\n",
    "    Returns\n",
    "    -------\n",
    "    result : ndarray\n",
    "        Denoised image, of same shape as input image.\n",
    "    \"\"\"\n",
    "    if s % 2 == 0:\n",
    "        s += 1  # odd value for symmetric patch\n",
    "    cdef int n_row, n_col, n_channels\n",
    "    n_row, n_col, n_channels = image.shape\n",
    "    cdef int offset = s / 2\n",
    "    cdef int row, col, i, j, channel\n",
    "    cdef int row_start, row_end, col_start, col_end\n",
    "    cdef int row_start_i, row_end_i, col_start_j, col_end_j\n",
    "    cdef IMGDTYPE [::1] new_values = np.zeros(n_channels).astype(np.float64)\n",
    "    cdef IMGDTYPE [:, :, ::1] padded = np.ascontiguousarray(np.pad(image,\n",
    "                       ((offset, offset), (offset, offset), (0, 0)),\n",
    "                        mode='reflect').astype(np.float64))\n",
    "    cdef IMGDTYPE [:, :, ::1] result = padded.copy()\n",
    "    cdef double A = ((s - 1.) / 4.)\n",
    "    cdef double new_value\n",
    "    cdef double weight_sum, weight\n",
    "    xg_row, xg_col = np.mgrid[-offset:offset + 1, -offset:offset + 1]\n",
    "    cdef IMGDTYPE [:, ::1] w = np.ascontiguousarray(np.exp(\n",
    "                             -(xg_row * xg_row + xg_col * xg_col) / (2 * A * A)).\n",
    "                             astype(np.float64))\n",
    "    cdef double distance\n",
    "    w = 1. / (n_channels * np.sum(w) * h * h) * w\n",
    "\n",
    "    # Coordinates of central pixel\n",
    "    # Iterate over rows, taking padding into account\n",
    "    for row in range(offset, n_row + offset):\n",
    "        row_start = row - offset\n",
    "        row_end = row + offset + 1\n",
    "        # Iterate over columns, taking padding into account\n",
    "        for col in range(offset, n_col + offset):\n",
    "            # Initialize per-channel bins\n",
    "            for channel in range(n_channels):\n",
    "                new_values[channel] = 0\n",
    "            # Reset weights for each local region\n",
    "            weight_sum = 0\n",
    "            col_start = col - offset\n",
    "            col_end = col + offset + 1\n",
    "\n",
    "            # Iterate over local 2d patch for each pixel\n",
    "            # First rows\n",
    "            for i in range(max(-d, offset - row),\n",
    "                           min(d + 1, n_row + offset - row)):\n",
    "                row_start_i = row_start + i\n",
    "                row_end_i = row_end + i\n",
    "                # Local patch columns\n",
    "                for j in range(max(-d, offset - col),\n",
    "                               min(d + 1, n_col + offset - col)):\n",
    "                    col_start_j = col_start + j\n",
    "                    col_end_j = col_end + j\n",
    "                    # Assume grayscale\n",
    "                    weight = patch_dist_2dx(\n",
    "                             padded[row_start:row_end,\n",
    "                                    col_start:col_end, 0],\n",
    "                             padded[row_start_i:row_end_i,\n",
    "                                    col_start_j:col_end_j, 0],\n",
    "                             w, s, var)\n",
    "\n",
    "                    # Collect results in weight sum\n",
    "                    weight_sum += weight\n",
    "                    # Apply to each channel multiplicatively\n",
    "                    for channel in range(n_channels):\n",
    "                        new_values[channel] += weight * padded[row + i,\n",
    "                                                               col + j,\n",
    "                                                               channel]\n",
    "\n",
    "            # Normalize the result\n",
    "            for channel in range(n_channels):\n",
    "                result[row, col, channel] = new_values[channel] / weight_sum\n",
    "\n",
    "    # Return cropped result, undoing padding\n",
    "    return result[offset:-offset, offset:-offset]"
   ]
  },
  {
   "cell_type": "code",
   "execution_count": 10,
   "metadata": {},
   "outputs": [],
   "source": [
    "@jit\n",
    "def patch_dist_2dn(p1, p2, w, s, var):\n",
    "    \"\"\"\n",
    "    Compute a Gaussian distance between two image patches.\n",
    "    Parameters\n",
    "    ----------\n",
    "    p1 : 2-D array_like\n",
    "        First patch.\n",
    "    p2 : 2-D array_like\n",
    "        Second patch.\n",
    "    w : 2-D array_like\n",
    "        Array of weights for the different pixels of the patches.\n",
    "    s : int\n",
    "        Linear size of the patches.\n",
    "    var : double\n",
    "        Expected noise variance.\n",
    "    Returns\n",
    "    -------\n",
    "    distance : double\n",
    "        Gaussian distance between the two patches\n",
    "    Notes\n",
    "    -----\n",
    "    The returned distance is given by\n",
    "    .. math::  \\exp( -w ((p1 - p2)^2 - 2*var))\n",
    "    \"\"\"\n",
    "    center = np.int((s-1) / 2)\n",
    "    # Check if central pixel is too different in the 2 patches\n",
    "    tmp_diff = p1[center, center] - p2[center, center]\n",
    "    init = w[center, center] * tmp_diff * tmp_diff\n",
    "    if init > 1:\n",
    "        return 0.\n",
    "    distance = 0\n",
    "    for i in range(s):\n",
    "        # exp of large negative numbers will be 0, so we'd better stop\n",
    "        if distance > DISTANCE_CUTOFF:\n",
    "            return 0.\n",
    "        for j in range(s):\n",
    "            tmp_diff = p1[i, j] - p2[i, j]\n",
    "            distance += w[i, j] * (tmp_diff * tmp_diff - 2 * var)\n",
    "    distance = np.max(distance, 0)\n",
    "    distance = np.exp(-distance)\n",
    "    return distance\n",
    "\n",
    "\n",
    "def nl_means_denoising_2dn(image, s=7, d=13, h=0.1, var=0.):\n",
    "    \"\"\"\n",
    "    Perform non-local means denoising on 2-D RGB image\n",
    "    Parameters\n",
    "    ----------\n",
    "    image : ndarray\n",
    "        Input RGB image to be denoised\n",
    "    s : int, optional\n",
    "        Size of patches used for denoising\n",
    "    d : int, optional\n",
    "        Maximal distance in pixels where to search patches used for denoising\n",
    "    h : double, optional\n",
    "        Cut-off distance (in gray levels). The higher h, the more permissive\n",
    "        one is in accepting patches.\n",
    "    var : double\n",
    "        Expected noise variance.  If non-zero, this is used to reduce the\n",
    "        apparent patch distances by the expected distance due to the noise.\n",
    "    Notes\n",
    "    -----\n",
    "    This function operates on 2D grayscale and multichannel images.  For\n",
    "    2D grayscale images, the input should be 3D with size 1 along the last\n",
    "    axis.  The code is compatible with an arbitrary number of channels.\n",
    "    Returns\n",
    "    -------\n",
    "    result : ndarray\n",
    "        Denoised image, of same shape as input image.\n",
    "    \"\"\"\n",
    "    if s % 2 == 0:\n",
    "        s += 1  # odd value for symmetric patch\n",
    "    n_row, n_col, n_channels = image.shape\n",
    "    offset = np.int((s-1) / 2)\n",
    "    new_values = np.zeros(n_channels).astype(np.float64)\n",
    "    padded = np.ascontiguousarray(np.pad(image,((offset, offset), (offset, offset), (0, 0)),mode='reflect').astype(np.float64))\n",
    "    result = padded.copy()\n",
    "    A = ((s - 1.) / 4.)\n",
    "    xg_row, xg_col = np.mgrid[-offset:offset + 1, -offset:offset + 1]\n",
    "    w = np.ascontiguousarray(np.exp(-(xg_row * xg_row + xg_col * xg_col) / (2 * A * A)).astype(np.float64))\n",
    "    w = 1. / (n_channels * np.sum(w) * h * h) * w\n",
    "\n",
    "    # Coordinates of central pixel\n",
    "    # Iterate over rows, taking padding into account\n",
    "    for row in range(offset, n_row + offset):\n",
    "        row_start = row - offset\n",
    "        row_end = row + offset + 1\n",
    "        # Iterate over columns, taking padding into account\n",
    "        for col in range(offset, n_col + offset):\n",
    "            # Initialize per-channel bins\n",
    "            for channel in range(n_channels):\n",
    "                new_values[channel] = 0\n",
    "            # Reset weights for each local region\n",
    "            weight_sum = 0\n",
    "            col_start = col - offset\n",
    "            col_end = col + offset + 1\n",
    "\n",
    "            # Iterate over local 2d patch for each pixel\n",
    "            # First rows\n",
    "            for i in range(max(-d, offset - row),\n",
    "                           min(d + 1, n_row + offset - row)):\n",
    "                row_start_i = row_start + i\n",
    "                row_end_i = row_end + i\n",
    "                # Local patch columns\n",
    "                for j in range(max(-d, offset - col),\n",
    "                               min(d + 1, n_col + offset - col)):\n",
    "                    col_start_j = col_start + j\n",
    "                    col_end_j = col_end + j\n",
    "                    # Assume grayscale\n",
    "                    weight = patch_dist_2dn(\n",
    "                             padded[row_start:row_end,\n",
    "                                    col_start:col_end, 0],\n",
    "                             padded[row_start_i:row_end_i,\n",
    "                                    col_start_j:col_end_j, 0],\n",
    "                             w, s, var)\n",
    "\n",
    "                    # Collect results in weight sum\n",
    "                    weight_sum += weight\n",
    "                    # Apply to each channel multiplicatively\n",
    "                    for channel in range(n_channels):\n",
    "                        new_values[channel] += weight * padded[row + i,\n",
    "                                                               col + j,\n",
    "                                                               channel]\n",
    "\n",
    "            # Normalize the result\n",
    "            for channel in range(n_channels):\n",
    "                result[row, col, channel] = new_values[channel] / weight_sum\n",
    "\n",
    "    # Return cropped result, undoing padding\n",
    "    return result[offset:-offset, offset:-offset]"
   ]
  },
  {
   "cell_type": "code",
   "execution_count": 33,
   "metadata": {},
   "outputs": [],
   "source": []
  },
  {
   "cell_type": "code",
   "execution_count": 11,
   "metadata": {},
   "outputs": [],
   "source": [
    "s = 50\n",
    "a = np.arange(s**2+s).reshape(s,s+1,1)\n",
    "b = np.arange(s**2).reshape(s,s)-2\n",
    "w = 0.5 * np.ones((3,3))\n",
    "DISTANCE_CUTOFF = 5.0"
   ]
  },
  {
   "cell_type": "code",
   "execution_count": 15,
   "metadata": {},
   "outputs": [
    {
     "name": "stdout",
     "output_type": "stream",
     "text": [
      "18.4 ms ± 1.02 ms per loop (mean ± std. dev. of 7 runs, 100 loops each)\n"
     ]
    }
   ],
   "source": [
    "%%timeit \n",
    "r0 = nl_means_denoising_2dx(a,s=3, d=2, h=0.1)"
   ]
  },
  {
   "cell_type": "code",
   "execution_count": 14,
   "metadata": {},
   "outputs": [
    {
     "name": "stdout",
     "output_type": "stream",
     "text": [
      "22 ms ± 2.05 ms per loop (mean ± std. dev. of 7 runs, 10 loops each)\n"
     ]
    }
   ],
   "source": [
    "%%timeit \n",
    "r1 = denoise_nl_means(a,h=0.1,fast_mode=True,patch_size=3,patch_distance=2,multichannel=False)"
   ]
  },
  {
   "cell_type": "code",
   "execution_count": 16,
   "metadata": {
    "scrolled": false
   },
   "outputs": [
    {
     "name": "stdout",
     "output_type": "stream",
     "text": [
      "81.4 ms ± 3.74 ms per loop (mean ± std. dev. of 7 runs, 10 loops each)\n"
     ]
    }
   ],
   "source": [
    "%%timeit\n",
    "s,h = 3,.1\n",
    "r2 = nlmeans_one_loop(a,s=3,h=0.1,var=0)"
   ]
  },
  {
   "cell_type": "code",
   "execution_count": 17,
   "metadata": {},
   "outputs": [
    {
     "name": "stdout",
     "output_type": "stream",
     "text": [
      "331 ms ± 16.6 ms per loop (mean ± std. dev. of 7 runs, 1 loop each)\n"
     ]
    }
   ],
   "source": [
    "%%timeit \n",
    "r3 = nl_means_denoising_2dn(a,s=3, d=2, h=0.1)"
   ]
  },
  {
   "cell_type": "code",
   "execution_count": null,
   "metadata": {},
   "outputs": [],
   "source": []
  },
  {
   "cell_type": "code",
   "execution_count": 74,
   "metadata": {},
   "outputs": [
    {
     "data": {
      "text/plain": [
       "True"
      ]
     },
     "execution_count": 74,
     "metadata": {},
     "output_type": "execute_result"
    }
   ],
   "source": [
    "np.allclose(r0,r1)"
   ]
  },
  {
   "cell_type": "code",
   "execution_count": 49,
   "metadata": {},
   "outputs": [
    {
     "name": "stdout",
     "output_type": "stream",
     "text": [
      " "
     ]
    }
   ],
   "source": [
    "# %prun -l 5 nl_means_denoising_2dn(a,s=3, d=2, h=0.1)\n",
    "%prun -l 5 nlmeans_one_loop(a,s=3,h=0.1,var=0)"
   ]
  },
  {
   "cell_type": "code",
   "execution_count": null,
   "metadata": {},
   "outputs": [],
   "source": []
  },
  {
   "cell_type": "code",
   "execution_count": null,
   "metadata": {},
   "outputs": [],
   "source": []
  }
 ],
 "metadata": {
  "kernelspec": {
   "display_name": "Python 3",
   "language": "python",
   "name": "python3"
  },
  "language_info": {
   "codemirror_mode": {
    "name": "ipython",
    "version": 3
   },
   "file_extension": ".py",
   "mimetype": "text/x-python",
   "name": "python",
   "nbconvert_exporter": "python",
   "pygments_lexer": "ipython3",
   "version": "3.6.5"
  }
 },
 "nbformat": 4,
 "nbformat_minor": 2
}
