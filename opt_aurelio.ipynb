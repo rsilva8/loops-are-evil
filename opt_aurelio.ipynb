{
 "cells": [
  {
   "cell_type": "code",
   "execution_count": 1,
   "metadata": {},
   "outputs": [],
   "source": [
    "# check which kernel we are using\n",
    "#!jupyter kernelspec list "
   ]
  },
  {
   "cell_type": "code",
   "execution_count": 220,
   "metadata": {},
   "outputs": [
    {
     "name": "stdout",
     "output_type": "stream",
     "text": [
      "The line_profiler extension is already loaded. To reload it, use:\n",
      "  %reload_ext line_profiler\n"
     ]
    }
   ],
   "source": [
    "import numpy as np\n",
    "from numpy.lib.stride_tricks import as_strided\n",
    "from numba import jit\n",
    "from skimage.restoration import denoise_nl_means, estimate_sigma\n",
    "%load_ext line_profiler"
   ]
  },
  {
   "cell_type": "code",
   "execution_count": null,
   "metadata": {},
   "outputs": [],
   "source": []
  },
  {
   "cell_type": "code",
   "execution_count": 178,
   "metadata": {},
   "outputs": [],
   "source": [
    "s = 7\n",
    "#a = np.arange(s**2).reshape(s,s)\n",
    "#b = np.arange(s**2).reshape(s,s)-2\n",
    "a = np.arange(s**2).reshape(s,s)\n",
    "b = np.arange(s**2).reshape(s,s)-2\n",
    "w = 0.5 * np.ones((3,3))\n",
    "DISTANCE_CUTOFF = 5.0"
   ]
  },
  {
   "cell_type": "code",
   "execution_count": 25,
   "metadata": {},
   "outputs": [
    {
     "data": {
      "text/plain": [
       "array([[ 0,  1,  2,  3,  4,  5,  6],\n",
       "       [ 7,  8,  9, 10, 11, 12, 13],\n",
       "       [14, 15, 16, 17, 18, 19, 20],\n",
       "       [21, 22, 23, 24, 25, 26, 27],\n",
       "       [28, 29, 30, 31, 32, 33, 34],\n",
       "       [35, 36, 37, 38, 39, 40, 41],\n",
       "       [42, 43, 44, 45, 46, 47, 48]])"
      ]
     },
     "execution_count": 25,
     "metadata": {},
     "output_type": "execute_result"
    }
   ],
   "source": [
    "a"
   ]
  },
  {
   "cell_type": "code",
   "execution_count": 26,
   "metadata": {},
   "outputs": [
    {
     "data": {
      "text/plain": [
       "array([[-2, -1,  0,  1,  2,  3,  4],\n",
       "       [ 5,  6,  7,  8,  9, 10, 11],\n",
       "       [12, 13, 14, 15, 16, 17, 18],\n",
       "       [19, 20, 21, 22, 23, 24, 25],\n",
       "       [26, 27, 28, 29, 30, 31, 32],\n",
       "       [33, 34, 35, 36, 37, 38, 39],\n",
       "       [40, 41, 42, 43, 44, 45, 46]])"
      ]
     },
     "execution_count": 26,
     "metadata": {},
     "output_type": "execute_result"
    }
   ],
   "source": [
    "b"
   ]
  },
  {
   "cell_type": "code",
   "execution_count": 27,
   "metadata": {},
   "outputs": [
    {
     "data": {
      "text/plain": [
       "array([[0.5, 0.5, 0.5, 0.5, 0.5, 0.5, 0.5],\n",
       "       [0.5, 0.5, 0.5, 0.5, 0.5, 0.5, 0.5],\n",
       "       [0.5, 0.5, 0.5, 0.5, 0.5, 0.5, 0.5],\n",
       "       [0.5, 0.5, 0.5, 0.5, 0.5, 0.5, 0.5],\n",
       "       [0.5, 0.5, 0.5, 0.5, 0.5, 0.5, 0.5],\n",
       "       [0.5, 0.5, 0.5, 0.5, 0.5, 0.5, 0.5],\n",
       "       [0.5, 0.5, 0.5, 0.5, 0.5, 0.5, 0.5]])"
      ]
     },
     "execution_count": 27,
     "metadata": {},
     "output_type": "execute_result"
    }
   ],
   "source": [
    "w"
   ]
  },
  {
   "cell_type": "code",
   "execution_count": null,
   "metadata": {},
   "outputs": [],
   "source": []
  },
  {
   "cell_type": "markdown",
   "metadata": {},
   "source": [
    "Standard python implementation"
   ]
  },
  {
   "cell_type": "code",
   "execution_count": 4,
   "metadata": {},
   "outputs": [],
   "source": [
    "def get_dist_loop(s,p1,p2,w,var):\n",
    "    distance = 0\n",
    "    for i in range(s):\n",
    "        for j in range(s):\n",
    "            tmp_diff = p1[i, j] - p2[i, j]\n",
    "            distance += w[i, j] * (tmp_diff * tmp_diff - 2 * var)\n",
    "    distance = max(distance, 0)\n",
    "    distance = np.exp(-distance)\n",
    "    return distance\n",
    "\n",
    "\n",
    "def get_dist_op(s,p1,p2,w,var):\n",
    "    distance = np.sum(w * ((p1 - p2)**2 - 2 * var))\n",
    "    distance = max(distance, 0)\n",
    "    distance = np.exp(-distance)\n",
    "    return distance"
   ]
  },
  {
   "cell_type": "code",
   "execution_count": 5,
   "metadata": {},
   "outputs": [
    {
     "name": "stdout",
     "output_type": "stream",
     "text": [
      "147 µs ± 8.14 µs per loop (mean ± std. dev. of 7 runs, 10000 loops each)\n",
      "10.9 µs ± 197 ns per loop (mean ± std. dev. of 7 runs, 100000 loops each)\n"
     ]
    }
   ],
   "source": [
    "%timeit get_dist_loop(s,a,b,w,0.)\n",
    "%timeit get_dist_op(s,a,b,w,0.)"
   ]
  },
  {
   "cell_type": "code",
   "execution_count": null,
   "metadata": {},
   "outputs": [],
   "source": []
  },
  {
   "cell_type": "markdown",
   "metadata": {},
   "source": [
    "Cython implementation"
   ]
  },
  {
   "cell_type": "code",
   "execution_count": 6,
   "metadata": {},
   "outputs": [],
   "source": [
    "%load_ext cython"
   ]
  },
  {
   "cell_type": "code",
   "execution_count": 19,
   "metadata": {},
   "outputs": [],
   "source": [
    "%%cython\n",
    "import numpy as np\n",
    "cimport numpy as np\n",
    "#cdef extern from \"fast_exp.h\":\n",
    "#    double fast_exp(double y) nogil\n",
    "def get_dist_loopx(int s, np.int32_t [:, :] p1, np.int32_t [:, :] p2, np.float64_t [:, :] w, float var):\n",
    "    cdef double distance = 0., tmp_diff = 0.\n",
    "    for i in range(s):\n",
    "        for j in range(s):\n",
    "            tmp_diff = p1[i, j] - p2[i, j]\n",
    "            distance += w[i, j] * (tmp_diff * tmp_diff - 2 * var)\n",
    "    distance = max(distance, 0)\n",
    "    distance = np.exp(-distance)\n",
    "    return distance"
   ]
  },
  {
   "cell_type": "code",
   "execution_count": 28,
   "metadata": {},
   "outputs": [],
   "source": [
    "%%cython\n",
    "import numpy as np\n",
    "cimport numpy as np\n",
    "def get_dist_opx(int s, np.int32_t [:, :] p1, np.int32_t [:, :] p2, np.float64_t [:, :] w, float var):\n",
    "    cdef double distance = 0.\n",
    "    distance = np.sum(np.multiply(w,(np.square(np.subtract(p1,p2)) - 2 * var)))\n",
    "    distance = max(distance, 0)\n",
    "    distance = np.exp(-distance)\n",
    "    return distance"
   ]
  },
  {
   "cell_type": "code",
   "execution_count": 30,
   "metadata": {},
   "outputs": [
    {
     "name": "stdout",
     "output_type": "stream",
     "text": [
      "3.37 µs ± 78.8 ns per loop (mean ± std. dev. of 7 runs, 100000 loops each)\n",
      "20.5 µs ± 459 ns per loop (mean ± std. dev. of 7 runs, 10000 loops each)\n",
      "150 µs ± 2.27 µs per loop (mean ± std. dev. of 7 runs, 10000 loops each)\n",
      "11.3 µs ± 55.2 ns per loop (mean ± std. dev. of 7 runs, 100000 loops each)\n"
     ]
    }
   ],
   "source": [
    "%timeit get_dist_loopx(s,a,b,w,0.)\n",
    "%timeit get_dist_opx(s,a,b,w,0.)\n",
    "%timeit get_dist_loop(s,a,b,w,0.)\n",
    "%timeit get_dist_op(s,a,b,w,0.)"
   ]
  },
  {
   "cell_type": "markdown",
   "metadata": {},
   "source": [
    "Numba, parallelization"
   ]
  },
  {
   "cell_type": "code",
   "execution_count": 22,
   "metadata": {},
   "outputs": [],
   "source": [
    "from numba import jit"
   ]
  },
  {
   "cell_type": "code",
   "execution_count": 32,
   "metadata": {},
   "outputs": [],
   "source": [
    "get_dist_loopn = jit(get_dist_loop)\n",
    "get_dist_opn = jit(get_dist_op)"
   ]
  },
  {
   "cell_type": "code",
   "execution_count": 34,
   "metadata": {
    "scrolled": true
   },
   "outputs": [
    {
     "name": "stdout",
     "output_type": "stream",
     "text": [
      "845 ns ± 34.7 ns per loop (mean ± std. dev. of 7 runs, 1000000 loops each)\n",
      "3.36 µs ± 46.5 ns per loop (mean ± std. dev. of 7 runs, 100000 loops each)\n",
      "The slowest run took 14.25 times longer than the fastest. This could mean that an intermediate result is being cached.\n",
      "3.66 µs ± 5.49 µs per loop (mean ± std. dev. of 7 runs, 1 loop each)\n"
     ]
    }
   ],
   "source": [
    "%timeit get_dist_loopn(s,a,b,w,0.)\n",
    "%timeit get_dist_loopx(s,a,b,w,0.)\n",
    "# %timeit get_dist_op(s,a,b,w,0.)\n",
    "# %timeit get_dist_loop(s,a,b,w,0.)\n",
    "timeit get_dist_opn(s,a,b,w,0.)"
   ]
  },
  {
   "cell_type": "markdown",
   "metadata": {},
   "source": [
    "# matrix optimization (numpy strides)"
   ]
  },
  {
   "cell_type": "code",
   "execution_count": 179,
   "metadata": {},
   "outputs": [],
   "source": [
    "s = 5\n",
    "a = np.arange(s**2+s).reshape(s,s+1)\n",
    "a_padded = np.pad(a, pad_width=2, mode='constant')\n",
    "b = np.arange(s**2).reshape(s,s)-2\n",
    "#w = 0.5 * np.ones_like(a)\n",
    "DISTANCE_CUTOFF = 5.0"
   ]
  },
  {
   "cell_type": "code",
   "execution_count": 161,
   "metadata": {},
   "outputs": [
    {
     "data": {
      "text/plain": [
       "array([[ 0,  0,  0,  0,  0,  0,  0,  0,  0,  0],\n",
       "       [ 0,  0,  0,  0,  0,  0,  0,  0,  0,  0],\n",
       "       [ 0,  0,  0,  1,  2,  3,  4,  5,  0,  0],\n",
       "       [ 0,  0,  6,  7,  8,  9, 10, 11,  0,  0],\n",
       "       [ 0,  0, 12, 13, 14, 15, 16, 17,  0,  0],\n",
       "       [ 0,  0, 18, 19, 20, 21, 22, 23,  0,  0],\n",
       "       [ 0,  0, 24, 25, 26, 27, 28, 29,  0,  0],\n",
       "       [ 0,  0,  0,  0,  0,  0,  0,  0,  0,  0],\n",
       "       [ 0,  0,  0,  0,  0,  0,  0,  0,  0,  0]])"
      ]
     },
     "execution_count": 161,
     "metadata": {},
     "output_type": "execute_result"
    }
   ],
   "source": [
    "a_padded"
   ]
  },
  {
   "cell_type": "code",
   "execution_count": 37,
   "metadata": {},
   "outputs": [
    {
     "data": {
      "text/plain": [
       "array([[-2, -1,  0,  1,  2],\n",
       "       [ 3,  4,  5,  6,  7],\n",
       "       [ 8,  9, 10, 11, 12],\n",
       "       [13, 14, 15, 16, 17],\n",
       "       [18, 19, 20, 21, 22]])"
      ]
     },
     "execution_count": 37,
     "metadata": {},
     "output_type": "execute_result"
    }
   ],
   "source": [
    "b"
   ]
  },
  {
   "cell_type": "code",
   "execution_count": 38,
   "metadata": {},
   "outputs": [
    {
     "data": {
      "text/plain": [
       "array([[0.5, 0.5, 0.5, 0.5, 0.5],\n",
       "       [0.5, 0.5, 0.5, 0.5, 0.5],\n",
       "       [0.5, 0.5, 0.5, 0.5, 0.5],\n",
       "       [0.5, 0.5, 0.5, 0.5, 0.5],\n",
       "       [0.5, 0.5, 0.5, 0.5, 0.5]])"
      ]
     },
     "execution_count": 38,
     "metadata": {},
     "output_type": "execute_result"
    }
   ],
   "source": [
    "w"
   ]
  },
  {
   "cell_type": "code",
   "execution_count": null,
   "metadata": {},
   "outputs": [],
   "source": []
  },
  {
   "cell_type": "code",
   "execution_count": null,
   "metadata": {},
   "outputs": [],
   "source": []
  },
  {
   "cell_type": "code",
   "execution_count": null,
   "metadata": {},
   "outputs": [],
   "source": []
  },
  {
   "cell_type": "code",
   "execution_count": 123,
   "metadata": {},
   "outputs": [],
   "source": [
    "def rolling_window(a, window):\n",
    "    shape = a.shape[:-1] + (a.shape[-1] - window + 1, window)\n",
    "    strides = a.strides + (a.strides[-1],)\n",
    "    return as_strided(a, shape=shape, strides=strides)\n",
    "\n",
    "\n",
    "def rolling_block(A, block=(3, 3)):\n",
    "    shape = (A.shape[0] - block[0] + 1, A.shape[1] - block[1] + 1) + block\n",
    "    strides = (A.strides[0], A.strides[1]) + A.strides\n",
    "    return as_strided(A, shape=shape, strides=strides)\n",
    "\n",
    "\n",
    "def rolling_patch_sets(A, blocks = (3,3), block = (3,3)):\n",
    "    shape = (A.shape[0] - block[0] + 1 - blocks[0] + 1,\n",
    "             A.shape[1] - block[1] + 1 - blocks[1] + 1) + blocks + block\n",
    "    strides = 3*A.strides\n",
    "    return as_strided(A, shape=shape, strides=strides)"
   ]
  },
  {
   "cell_type": "code",
   "execution_count": 34,
   "metadata": {},
   "outputs": [
    {
     "name": "stdout",
     "output_type": "stream",
     "text": [
      "27.2 µs ± 2.23 µs per loop (mean ± std. dev. of 7 runs, 10000 loops each)\n"
     ]
    }
   ],
   "source": [
    "%timeit np.mean(rolling_block(a),-1)"
   ]
  },
  {
   "cell_type": "code",
   "execution_count": 28,
   "metadata": {},
   "outputs": [],
   "source": [
    "def rolling_apply(fun, a, w):\n",
    "    r = np.empty(a.shape)\n",
    "    r.fill(np.nan)\n",
    "    for i in range(w - 1, a.shape[0]):\n",
    "        r[i] = fun(a[(i-w+1):i+1])\n",
    "    return r"
   ]
  },
  {
   "cell_type": "code",
   "execution_count": 29,
   "metadata": {},
   "outputs": [
    {
     "name": "stdout",
     "output_type": "stream",
     "text": [
      "30.7 µs ± 2.14 µs per loop (mean ± std. dev. of 7 runs, 10000 loops each)\n"
     ]
    }
   ],
   "source": [
    "%timeit rolling_apply(np.mean,a,3)"
   ]
  },
  {
   "cell_type": "code",
   "execution_count": 223,
   "metadata": {},
   "outputs": [
    {
     "data": {
      "text/plain": [
       "dtype('int32')"
      ]
     },
     "execution_count": 223,
     "metadata": {},
     "output_type": "execute_result"
    }
   ],
   "source": [
    "a.dtype"
   ]
  },
  {
   "cell_type": "code",
   "execution_count": 181,
   "metadata": {},
   "outputs": [
    {
     "data": {
      "text/plain": [
       "array([[0.5, 0.5, 0.5],\n",
       "       [0.5, 0.5, 0.5],\n",
       "       [0.5, 0.5, 0.5]])"
      ]
     },
     "execution_count": 181,
     "metadata": {},
     "output_type": "execute_result"
    }
   ],
   "source": [
    "w"
   ]
  },
  {
   "cell_type": "code",
   "execution_count": 238,
   "metadata": {},
   "outputs": [],
   "source": [
    "def nlmeans_one_loop(a,w,var):\n",
    "    b = np.zeros(a.shape, dtype='float')\n",
    "    a_padded = np.pad(a, pad_width=2, mode='reflect').astype('float')\n",
    "    rps = rolling_patch_sets(a_padded)\n",
    "    for index in np.ndindex(a.shape):\n",
    "        #import pdb; pdb.set_trace()\n",
    "        weight = np.sum( w * (np.square(rps[index] - rps[index+(1,1)]) - 2 * var), axis = (-1,-2) )\n",
    "        weight = np.maximum(weight, 0)\n",
    "        weight_sum = np.sum( np.exp(-weight) )\n",
    "        patch_centers = rps[index[0],index[1],:,:,1,1]\n",
    "        b[index] = np.sum( weight * patch_centers ) / weight_sum\n",
    "    return b"
   ]
  },
  {
   "cell_type": "code",
   "execution_count": 239,
   "metadata": {},
   "outputs": [
    {
     "data": {
      "text/plain": [
       "array([[ 0.,  1.,  2.,  3.,  4.,  5.],\n",
       "       [ 6.,  7.,  8.,  9., 10., 11.],\n",
       "       [12., 13., 14., 15., 16., 17.],\n",
       "       [18., 19., 20., 21., 22., 23.],\n",
       "       [24., 25., 26., 27., 28., 29.]])"
      ]
     },
     "execution_count": 239,
     "metadata": {},
     "output_type": "execute_result"
    }
   ],
   "source": [
    "denoise_nl_means(a,h=0.1,fast_mode=False,patch_size=3,patch_distance=2,multichannel=False)"
   ]
  },
  {
   "cell_type": "code",
   "execution_count": 240,
   "metadata": {
    "scrolled": false
   },
   "outputs": [
    {
     "data": {
      "text/plain": [
       "array([[ 6635.570931  ,  6999.48548006,  7835.90198397,  8813.18863591,\n",
       "         9532.21334979,  9802.21446684],\n",
       "       [ 6970.13753256,  7334.05208163,  7888.72828948,  8866.01494142,\n",
       "         9303.29935925,  9573.3004763 ],\n",
       "       [12810.37908616, 13127.33691922, 13682.01312707, 14659.299779  ,\n",
       "        15213.97598686, 15530.93381992],\n",
       "       [18087.14004765, 18357.1411647 , 19475.29796466, 20452.58461659,\n",
       "        21688.13320657, 22052.04775564],\n",
       "       [17858.2260571 , 18128.22717416, 19528.12427017, 20505.4109221 ,\n",
       "        22022.69980814, 22386.61435721]])"
      ]
     },
     "execution_count": 240,
     "metadata": {},
     "output_type": "execute_result"
    }
   ],
   "source": [
    "nlmeans_one_loop(a,w,0)"
   ]
  },
  {
   "cell_type": "code",
   "execution_count": null,
   "metadata": {},
   "outputs": [],
   "source": []
  },
  {
   "cell_type": "code",
   "execution_count": null,
   "metadata": {},
   "outputs": [],
   "source": []
  },
  {
   "cell_type": "code",
   "execution_count": null,
   "metadata": {},
   "outputs": [],
   "source": []
  },
  {
   "cell_type": "code",
   "execution_count": null,
   "metadata": {},
   "outputs": [],
   "source": []
  }
 ],
 "metadata": {
  "kernelspec": {
   "display_name": "Python 3",
   "language": "python",
   "name": "python3"
  },
  "language_info": {
   "codemirror_mode": {
    "name": "ipython",
    "version": 3
   },
   "file_extension": ".py",
   "mimetype": "text/x-python",
   "name": "python",
   "nbconvert_exporter": "python",
   "pygments_lexer": "ipython3",
   "version": "3.6.6"
  }
 },
 "nbformat": 4,
 "nbformat_minor": 2
}
