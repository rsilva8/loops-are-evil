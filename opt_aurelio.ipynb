{
 "cells": [
  {
   "cell_type": "code",
   "execution_count": 1,
   "metadata": {},
   "outputs": [],
   "source": [
    "# check which kernel we are using\n",
    "#!jupyter kernelspec list "
   ]
  },
  {
   "cell_type": "code",
   "execution_count": 31,
   "metadata": {},
   "outputs": [
    {
     "name": "stdout",
     "output_type": "stream",
     "text": [
      "The line_profiler extension is already loaded. To reload it, use:\n",
      "  %reload_ext line_profiler\n"
     ]
    }
   ],
   "source": [
    "import numpy as np\n",
    "from numpy.lib.stride_tricks import as_strided\n",
    "from numba import jit\n",
    "%load_ext line_profiler"
   ]
  },
  {
   "cell_type": "code",
   "execution_count": null,
   "metadata": {},
   "outputs": [],
   "source": []
  },
  {
   "cell_type": "code",
   "execution_count": 67,
   "metadata": {},
   "outputs": [],
   "source": [
    "s = 7\n",
    "#a = np.arange(s**2).reshape(s,s)\n",
    "#b = np.arange(s**2).reshape(s,s)-2\n",
    "a = np.arange(s**2).reshape(s,s)\n",
    "b = np.arange(s**2).reshape(s,s)-2\n",
    "w = 0.5 * np.ones_like(a)\n",
    "DISTANCE_CUTOFF = 5.0"
   ]
  },
  {
   "cell_type": "code",
   "execution_count": 51,
   "metadata": {},
   "outputs": [
    {
     "data": {
      "text/plain": [
       "array([[ 0,  1,  2,  3,  4,  5,  6],\n",
       "       [ 7,  8,  9, 10, 11, 12, 13],\n",
       "       [14, 15, 16, 17, 18, 19, 20],\n",
       "       [21, 22, 23, 24, 25, 26, 27],\n",
       "       [28, 29, 30, 31, 32, 33, 34],\n",
       "       [35, 36, 37, 38, 39, 40, 41],\n",
       "       [42, 43, 44, 45, 46, 47, 48]])"
      ]
     },
     "execution_count": 51,
     "metadata": {},
     "output_type": "execute_result"
    }
   ],
   "source": [
    "a"
   ]
  },
  {
   "cell_type": "markdown",
   "metadata": {},
   "source": [
    "Standard python implementation"
   ]
  },
  {
   "cell_type": "code",
   "execution_count": 53,
   "metadata": {},
   "outputs": [],
   "source": [
    "def get_dist_loop(s,p1,p2,w,var):\n",
    "    distance = 0\n",
    "    for i in range(s):\n",
    "        for j in range(s):\n",
    "            tmp_diff = p1[i, j] - p2[i, j]\n",
    "            distance += w[i, j] * (tmp_diff * tmp_diff - 2 * var)\n",
    "    distance = max(distance, 0)\n",
    "    distance = np.exp(-distance)\n",
    "    return distance\n",
    "\n",
    "\n",
    "def get_dist_op(s,p1,p2,w,var):\n",
    "    distance = np.sum(w * ((p1 - p2)**2 - 2 * var))\n",
    "    distance = max(distance, 0)\n",
    "    distance = np.exp(-distance)\n",
    "    return distance"
   ]
  },
  {
   "cell_type": "code",
   "execution_count": 56,
   "metadata": {},
   "outputs": [
    {
     "name": "stdout",
     "output_type": "stream",
     "text": [
      "141 µs ± 360 ns per loop (mean ± std. dev. of 7 runs, 10000 loops each)\n",
      "13.1 µs ± 497 ns per loop (mean ± std. dev. of 7 runs, 100000 loops each)\n"
     ]
    }
   ],
   "source": [
    "%timeit get_dist_loop(s,a,b,w,0.)\n",
    "%timeit get_dist_op(s,a,b,w,0.)"
   ]
  },
  {
   "cell_type": "code",
   "execution_count": null,
   "metadata": {},
   "outputs": [],
   "source": []
  },
  {
   "cell_type": "markdown",
   "metadata": {},
   "source": [
    "Cython implementation"
   ]
  },
  {
   "cell_type": "code",
   "execution_count": 3,
   "metadata": {},
   "outputs": [],
   "source": [
    "%load_ext cython"
   ]
  },
  {
   "cell_type": "code",
   "execution_count": 57,
   "metadata": {},
   "outputs": [],
   "source": [
    "%%cython\n",
    "import numpy as np\n",
    "cimport numpy as np\n",
    "#cdef extern from \"fast_exp.h\":\n",
    "#    double fast_exp(double y) nogil\n",
    "def get_dist_loopx(int s, np.int64_t [:, :] p1, np.int64_t [:, :] p2, np.float64_t [:, :] w, float var):\n",
    "    cdef double distance = 0., tmp_diff = 0.\n",
    "    for i in range(s):\n",
    "        for j in range(s):\n",
    "            tmp_diff = p1[i, j] - p2[i, j]\n",
    "            distance += w[i, j] * (tmp_diff * tmp_diff - 2 * var)\n",
    "    distance = max(distance, 0)\n",
    "    distance = np.exp(-distance)\n",
    "    return distance"
   ]
  },
  {
   "cell_type": "code",
   "execution_count": 58,
   "metadata": {},
   "outputs": [],
   "source": [
    "%%cython\n",
    "import numpy as np\n",
    "cimport numpy as np\n",
    "def get_dist_opx(int s, np.int64_t [:, :] p1, np.int64_t [:, :] p2, np.float64_t [:, :] w, float var):\n",
    "    cdef double distance = 0.\n",
    "    distance = np.sum(np.multiply(w,(np.multiply(p1,p2) - 2 * var)))\n",
    "    distance = max(distance, 0)\n",
    "    distance = np.exp(-distance)\n",
    "    return distance"
   ]
  },
  {
   "cell_type": "code",
   "execution_count": 60,
   "metadata": {},
   "outputs": [
    {
     "name": "stdout",
     "output_type": "stream",
     "text": [
      "3.76 µs ± 247 ns per loop (mean ± std. dev. of 7 runs, 100000 loops each)\n",
      "151 µs ± 581 ns per loop (mean ± std. dev. of 7 runs, 10000 loops each)\n",
      "13.7 µs ± 620 ns per loop (mean ± std. dev. of 7 runs, 100000 loops each)\n"
     ]
    }
   ],
   "source": [
    "%timeit get_dist_loopx(s,a,b,w,0.)\n",
    "#%timeit get_dist_opx(s,a,b,w,0.)\n",
    "%timeit get_dist_loop(s,a,b,w,0.)\n",
    "%timeit get_dist_op(s,a,b,w,0.)"
   ]
  },
  {
   "cell_type": "markdown",
   "metadata": {},
   "source": [
    "Numba, parallelization"
   ]
  },
  {
   "cell_type": "code",
   "execution_count": 61,
   "metadata": {},
   "outputs": [],
   "source": [
    "from numba import jit"
   ]
  },
  {
   "cell_type": "code",
   "execution_count": 62,
   "metadata": {},
   "outputs": [],
   "source": [
    "get_dist_loopn = jit(get_dist_loop)\n",
    "#get_dist_opn = jit(get_dist_op)"
   ]
  },
  {
   "cell_type": "code",
   "execution_count": 68,
   "metadata": {
    "scrolled": true
   },
   "outputs": [
    {
     "name": "stdout",
     "output_type": "stream",
     "text": [
      "854 ns ± 35.4 ns per loop (mean ± std. dev. of 7 runs, 1000000 loops each)\n",
      "3.88 µs ± 273 ns per loop (mean ± std. dev. of 7 runs, 100000 loops each)\n"
     ]
    }
   ],
   "source": [
    "%timeit get_dist_loopn(s,a,b,w,0.)\n",
    "%timeit get_dist_loopx(s,a,b,w,0.)\n",
    "# %timeit get_dist_op(s,a,b,w,0.)\n",
    "# %timeit get_dist_loop(s,a,b,w,0.)\n",
    "# %timeit get_dist_opn(s,a,b,w,0.)\n",
    "# %timeit get_dist_loopn(s,a,b,w,0.)"
   ]
  },
  {
   "cell_type": "markdown",
   "metadata": {},
   "source": [
    "# matrix optimization (numpy strides)"
   ]
  },
  {
   "cell_type": "code",
   "execution_count": 8,
   "metadata": {},
   "outputs": [],
   "source": [
    "s = 5\n",
    "a = np.arange(s**2).reshape(s,s)\n",
    "b = np.arange(s**2).reshape(s,s)-2\n",
    "w = 0.5 * np.ones_like(a)\n",
    "DISTANCE_CUTOFF = 5.0"
   ]
  },
  {
   "cell_type": "code",
   "execution_count": 32,
   "metadata": {},
   "outputs": [],
   "source": [
    "def rolling_window(a, window):\n",
    "    shape = a.shape[:-1] + (a.shape[-1] - window + 1, window)\n",
    "    strides = a.strides + (a.strides[-1],)\n",
    "    return as_strided(a, shape=shape, strides=strides)\n",
    "\n",
    "\n",
    "def rolling_block(A, block=(3, 3)):\n",
    "    shape = (A.shape[0] - block[0] + 1, A.shape[1] - block[1] + 1) + block\n",
    "    strides = (A.strides[0], A.strides[1]) + A.strides\n",
    "    return as_strided(A, shape=shape, strides=strides)"
   ]
  },
  {
   "cell_type": "code",
   "execution_count": 34,
   "metadata": {},
   "outputs": [
    {
     "name": "stdout",
     "output_type": "stream",
     "text": [
      "27.2 µs ± 2.23 µs per loop (mean ± std. dev. of 7 runs, 10000 loops each)\n"
     ]
    }
   ],
   "source": [
    "%timeit np.mean(rolling_block(a),-1)"
   ]
  },
  {
   "cell_type": "code",
   "execution_count": 28,
   "metadata": {},
   "outputs": [],
   "source": [
    "def rolling_apply(fun, a, w):\n",
    "    r = np.empty(a.shape)\n",
    "    r.fill(np.nan)\n",
    "    for i in range(w - 1, a.shape[0]):\n",
    "        r[i] = fun(a[(i-w+1):i+1])\n",
    "    return r"
   ]
  },
  {
   "cell_type": "code",
   "execution_count": 29,
   "metadata": {},
   "outputs": [
    {
     "name": "stdout",
     "output_type": "stream",
     "text": [
      "30.7 µs ± 2.14 µs per loop (mean ± std. dev. of 7 runs, 10000 loops each)\n"
     ]
    }
   ],
   "source": [
    "%timeit rolling_apply(np.mean,a,3)"
   ]
  },
  {
   "cell_type": "code",
   "execution_count": null,
   "metadata": {},
   "outputs": [],
   "source": []
  },
  {
   "cell_type": "code",
   "execution_count": null,
   "metadata": {},
   "outputs": [],
   "source": []
  }
 ],
 "metadata": {
  "kernelspec": {
   "display_name": "Python 3",
   "language": "python",
   "name": "python3"
  },
  "language_info": {
   "codemirror_mode": {
    "name": "ipython",
    "version": 3
   },
   "file_extension": ".py",
   "mimetype": "text/x-python",
   "name": "python",
   "nbconvert_exporter": "python",
   "pygments_lexer": "ipython3",
   "version": "3.6.5"
  }
 },
 "nbformat": 4,
 "nbformat_minor": 2
}
